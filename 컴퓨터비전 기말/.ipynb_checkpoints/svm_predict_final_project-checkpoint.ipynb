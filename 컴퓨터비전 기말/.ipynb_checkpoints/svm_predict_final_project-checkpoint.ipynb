{
 "cells": [
  {
   "cell_type": "code",
   "execution_count": 1,
   "id": "82fc42c7-2aea-4dfe-867c-ef4833a01c03",
   "metadata": {
    "execution": {
     "iopub.execute_input": "2021-12-14T06:42:04.981261Z",
     "iopub.status.busy": "2021-12-14T06:42:04.981261Z",
     "iopub.status.idle": "2021-12-14T06:42:05.665359Z",
     "shell.execute_reply": "2021-12-14T06:42:05.664377Z",
     "shell.execute_reply.started": "2021-12-14T06:42:04.981261Z"
    },
    "tags": []
   },
   "outputs": [],
   "source": [
    "import cv2\n",
    "import numpy as np\n",
    "import os, glob, random"
   ]
  },
  {
   "cell_type": "code",
   "execution_count": 2,
   "id": "bee85448-cd85-4b41-a585-b5ca08692a6a",
   "metadata": {
    "execution": {
     "iopub.execute_input": "2021-12-14T06:42:05.666357Z",
     "iopub.status.busy": "2021-12-14T06:42:05.665359Z",
     "iopub.status.idle": "2021-12-14T06:42:05.681421Z",
     "shell.execute_reply": "2021-12-14T06:42:05.680009Z",
     "shell.execute_reply.started": "2021-12-14T06:42:05.666357Z"
    },
    "tags": []
   },
   "outputs": [],
   "source": [
    "base_path = \"D:/vision_final_data/x_ray_images/Astrophysics/\"\n",
    "categories = ['Electronic cigarettes', 'Gun', 'Liquid', 'SmartPhone']\n",
    "dict_file = \"single_default_x_ray_dict.npy\"\n",
    "svm_model_file = \"single_default_x_ray_svm.xml\""
   ]
  },
  {
   "cell_type": "code",
   "execution_count": 3,
   "id": "f889f7cf-7af1-4f94-9f50-e0db8007a4fb",
   "metadata": {
    "execution": {
     "iopub.execute_input": "2021-12-14T06:42:05.683115Z",
     "iopub.status.busy": "2021-12-14T06:42:05.683115Z",
     "iopub.status.idle": "2021-12-14T06:42:05.786566Z",
     "shell.execute_reply": "2021-12-14T06:42:05.785613Z",
     "shell.execute_reply.started": "2021-12-14T06:42:05.683115Z"
    },
    "tags": []
   },
   "outputs": [],
   "source": [
    "detector = cv2.xfeatures2d.SIFT_create()\n",
    "bowExtractor = cv2.BOWImgDescriptorExtractor(detector, cv2.BFMatcher(cv2.NORM_L2))\n",
    "bowExtractor.setVocabulary(np.load(dict_file))\n",
    "svm = cv2.ml.SVM_load(svm_model_file)"
   ]
  },
  {
   "cell_type": "code",
   "execution_count": 4,
   "id": "3df55dc3-7b35-42af-8d5f-de6ec205abe2",
   "metadata": {
    "execution": {
     "iopub.execute_input": "2021-12-14T06:42:05.788975Z",
     "iopub.status.busy": "2021-12-14T06:42:05.788333Z",
     "iopub.status.idle": "2021-12-14T06:42:06.701948Z",
     "shell.execute_reply": "2021-12-14T06:42:06.701754Z",
     "shell.execute_reply.started": "2021-12-14T06:42:05.788975Z"
    },
    "tags": []
   },
   "outputs": [],
   "source": [
    "labels = []\n",
    "results = []\n",
    "\n",
    "electronic_cigarettes_test_set = []\n",
    "gun_test_set = []\n",
    "liquid_test_set = []\n",
    "smartphone_test_set = []\n",
    "\n",
    "for label, category in enumerate(categories):\n",
    "    dir_path = base_path + category + '/Single_Other/'\n",
    "    for i in range(100):\n",
    "        img_path = random.choice(glob.glob(dir_path+'/*.*'))\n",
    "        if category == 'Electronic cigarettes':\n",
    "            electronic_cigarettes_test_set.append(img_path)\n",
    "        elif category == 'Gun':\n",
    "            gun_test_set.append(img_path)\n",
    "        elif category == 'Liquid':\n",
    "            liquid_test_set.append(img_path)\n",
    "        elif category == 'SmartPhone':\n",
    "            smartphone_test_set.append(img_path)\n",
    "\n",
    "test_set = [electronic_cigarettes_test_set, gun_test_set, liquid_test_set, smartphone_test_set]"
   ]
  },
  {
   "cell_type": "code",
   "execution_count": 5,
   "id": "4c0a5f44-361f-48fb-b809-2e9cf64773a2",
   "metadata": {
    "execution": {
     "iopub.execute_input": "2021-12-14T06:42:06.703015Z",
     "iopub.status.busy": "2021-12-14T06:42:06.703015Z",
     "iopub.status.idle": "2021-12-14T06:45:41.165165Z",
     "shell.execute_reply": "2021-12-14T06:45:41.165165Z",
     "shell.execute_reply.started": "2021-12-14T06:42:06.703015Z"
    },
    "tags": []
   },
   "outputs": [
    {
     "name": "stdout",
     "output_type": "stream",
     "text": [
      "Electronic cigarettes : 63.0\n",
      "Gun : 100.0\n",
      "Liquid : 71.0\n",
      "SmartPhone : 94.0\n"
     ]
    }
   ],
   "source": [
    "wrong_predict = []\n",
    "\n",
    "for label, categorical_test_set in enumerate(test_set):\n",
    "    labels = []\n",
    "    results = []\n",
    "    for img_path in categorical_test_set:\n",
    "        labels.append(label)\n",
    "        img = cv2.imread(img_path)\n",
    "        gray = cv2.cvtColor(img, cv2.COLOR_BGR2GRAY)\n",
    "        hist = bowExtractor.compute(gray, detector.detect(gray))\n",
    "        ret, result = svm.predict(hist)\n",
    "        resp = result[0][0]\n",
    "        results.append(resp)\n",
    "    labels = np.array(labels)\n",
    "    results = np.array(results)\n",
    "    err = (labels != results)\n",
    "    idx = 0\n",
    "    for i in err:\n",
    "        if i:\n",
    "            wrong_predict.append([idx, categories[label], categories[int(results[idx])]])\n",
    "        idx += 1\n",
    "    err_mean = err.mean()\n",
    "    print(\"{0} : {1}\".format(categories[label], (1-err_mean)*100))"
   ]
  },
  {
   "cell_type": "code",
   "execution_count": 8,
   "id": "e6eb5c41-d848-454c-8d3a-2da50847a187",
   "metadata": {
    "execution": {
     "iopub.execute_input": "2021-12-14T06:46:29.031120Z",
     "iopub.status.busy": "2021-12-14T06:46:29.031120Z",
     "iopub.status.idle": "2021-12-14T06:46:29.044478Z",
     "shell.execute_reply": "2021-12-14T06:46:29.044478Z",
     "shell.execute_reply.started": "2021-12-14T06:46:29.031120Z"
    },
    "tags": []
   },
   "outputs": [
    {
     "name": "stdout",
     "output_type": "stream",
     "text": [
      "index / right label / predict label\n",
      "[1, 'Electronic cigarettes', 'Gun']\n",
      "[6, 'Electronic cigarettes', 'Gun']\n",
      "[15, 'Electronic cigarettes', 'Gun']\n",
      "[17, 'Electronic cigarettes', 'Gun']\n",
      "[20, 'Electronic cigarettes', 'Gun']\n",
      "[21, 'Electronic cigarettes', 'Gun']\n",
      "[23, 'Electronic cigarettes', 'Gun']\n",
      "[26, 'Electronic cigarettes', 'Gun']\n",
      "[27, 'Electronic cigarettes', 'Gun']\n",
      "[29, 'Electronic cigarettes', 'Gun']\n",
      "[32, 'Electronic cigarettes', 'Gun']\n",
      "[33, 'Electronic cigarettes', 'Gun']\n",
      "[35, 'Electronic cigarettes', 'Gun']\n",
      "[38, 'Electronic cigarettes', 'Gun']\n",
      "[39, 'Electronic cigarettes', 'Gun']\n",
      "[40, 'Electronic cigarettes', 'Gun']\n",
      "[43, 'Electronic cigarettes', 'Gun']\n",
      "[44, 'Electronic cigarettes', 'Gun']\n",
      "[45, 'Electronic cigarettes', 'Gun']\n",
      "[53, 'Electronic cigarettes', 'Gun']\n",
      "[54, 'Electronic cigarettes', 'Gun']\n",
      "[59, 'Electronic cigarettes', 'Gun']\n",
      "[60, 'Electronic cigarettes', 'Gun']\n",
      "[62, 'Electronic cigarettes', 'Gun']\n",
      "[69, 'Electronic cigarettes', 'Gun']\n",
      "[70, 'Electronic cigarettes', 'Gun']\n",
      "[71, 'Electronic cigarettes', 'Gun']\n",
      "[75, 'Electronic cigarettes', 'Gun']\n",
      "[81, 'Electronic cigarettes', 'Gun']\n",
      "[82, 'Electronic cigarettes', 'Gun']\n",
      "[83, 'Electronic cigarettes', 'Gun']\n",
      "[85, 'Electronic cigarettes', 'Gun']\n",
      "[91, 'Electronic cigarettes', 'Gun']\n",
      "[94, 'Electronic cigarettes', 'Gun']\n",
      "[95, 'Electronic cigarettes', 'Gun']\n",
      "[96, 'Electronic cigarettes', 'Gun']\n",
      "[99, 'Electronic cigarettes', 'Gun']\n",
      "[0, 'Liquid', 'SmartPhone']\n",
      "[1, 'Liquid', 'SmartPhone']\n",
      "[2, 'Liquid', 'SmartPhone']\n",
      "[12, 'Liquid', 'SmartPhone']\n",
      "[13, 'Liquid', 'Gun']\n",
      "[24, 'Liquid', 'Electronic cigarettes']\n",
      "[29, 'Liquid', 'Gun']\n",
      "[30, 'Liquid', 'Gun']\n",
      "[33, 'Liquid', 'Gun']\n",
      "[37, 'Liquid', 'Gun']\n",
      "[43, 'Liquid', 'Gun']\n",
      "[55, 'Liquid', 'Gun']\n",
      "[56, 'Liquid', 'SmartPhone']\n",
      "[58, 'Liquid', 'Gun']\n",
      "[65, 'Liquid', 'Gun']\n",
      "[71, 'Liquid', 'Gun']\n",
      "[72, 'Liquid', 'SmartPhone']\n",
      "[74, 'Liquid', 'SmartPhone']\n",
      "[77, 'Liquid', 'SmartPhone']\n",
      "[78, 'Liquid', 'Gun']\n",
      "[79, 'Liquid', 'Gun']\n",
      "[88, 'Liquid', 'Gun']\n",
      "[89, 'Liquid', 'Gun']\n",
      "[91, 'Liquid', 'Gun']\n",
      "[92, 'Liquid', 'Electronic cigarettes']\n",
      "[93, 'Liquid', 'Gun']\n",
      "[94, 'Liquid', 'SmartPhone']\n",
      "[98, 'Liquid', 'Gun']\n",
      "[99, 'Liquid', 'Gun']\n",
      "[4, 'SmartPhone', 'Liquid']\n",
      "[18, 'SmartPhone', 'Liquid']\n",
      "[32, 'SmartPhone', 'Liquid']\n",
      "[39, 'SmartPhone', 'Liquid']\n",
      "[77, 'SmartPhone', 'Liquid']\n",
      "[88, 'SmartPhone', 'Liquid']\n"
     ]
    }
   ],
   "source": [
    "print(\"index / right label / predict label\")\n",
    "for i in range(len(wrong_predict)):\n",
    "    print(wrong_predict[i])"
   ]
  },
  {
   "cell_type": "code",
   "execution_count": 7,
   "id": "0c86be34-0550-4718-888d-d384340cacd1",
   "metadata": {
    "execution": {
     "iopub.execute_input": "2021-12-14T06:45:41.197697Z",
     "iopub.status.busy": "2021-12-14T06:45:41.197697Z",
     "iopub.status.idle": "2021-12-14T06:45:48.735022Z",
     "shell.execute_reply": "2021-12-14T06:45:48.733077Z",
     "shell.execute_reply.started": "2021-12-14T06:45:41.197697Z"
    },
    "tags": []
   },
   "outputs": [],
   "source": [
    "# bounding box 그리기\n",
    "# test 결과 이미지 출력 - 맞게 분류한 결과 / 다르게 분류한 결과"
   ]
  }
 ],
 "metadata": {
  "kernelspec": {
   "display_name": "Python 3 (ipykernel)",
   "language": "python",
   "name": "python3"
  },
  "language_info": {
   "codemirror_mode": {
    "name": "ipython",
    "version": 3
   },
   "file_extension": ".py",
   "mimetype": "text/x-python",
   "name": "python",
   "nbconvert_exporter": "python",
   "pygments_lexer": "ipython3",
   "version": "3.8.12"
  }
 },
 "nbformat": 4,
 "nbformat_minor": 5
}
